{
 "cells": [
  {
   "cell_type": "markdown",
   "metadata": {},
   "source": [
    "## Read data"
   ]
  },
  {
   "cell_type": "code",
   "execution_count": null,
   "metadata": {},
   "outputs": [],
   "source": [
    "from csv_to_pandas import read_augmented_availability_data, read_station_data\n",
    "df = read_augmented_availability_data(\"data.csv\", \"stations.csv\")\n",
    "stations = read_station_data(\"stations.csv\")"
   ]
  },
  {
   "cell_type": "markdown",
   "metadata": {},
   "source": [
    "## Plotting functions"
   ]
  },
  {
   "cell_type": "code",
   "execution_count": null,
   "metadata": {},
   "outputs": [],
   "source": [
    "import matplotlib as mpl\n",
    "from matplotlib import pyplot as plt\n",
    "\n",
    "def plot_station_usage(df, stations):\n",
    "    mpl.style.use(\"seaborn\")\n",
    "    for station_id in stations:\n",
    "        sub_df = df[df.station_id == station_id]\n",
    "        sub_df['real_capacity'] = sub_df.num_bikes_available + sub_df.num_docks_available\n",
    "        sub_df[['num_bikes_available', 'real_capacity']].plot()\n",
    "        top_row = sub_df.iloc[0]\n",
    "        plt.ylim(0, top_row.station_capacity)\n",
    "        plt.title(top_row.station_name)\n",
    "        plt.show();"
   ]
  },
  {
   "cell_type": "markdown",
   "metadata": {},
   "source": [
    "## Display_plots"
   ]
  },
  {
   "cell_type": "code",
   "execution_count": null,
   "metadata": {
    "scrolled": false
   },
   "outputs": [],
   "source": [
    "plot_station_usage(df, stations)"
   ]
  }
 ],
 "metadata": {
  "kernelspec": {
   "display_name": "Python 3",
   "language": "python",
   "name": "python3"
  },
  "language_info": {
   "codemirror_mode": {
    "name": "ipython",
    "version": 3.0
   },
   "file_extension": ".py",
   "mimetype": "text/x-python",
   "name": "python",
   "nbconvert_exporter": "python",
   "pygments_lexer": "ipython3",
   "version": "3.6.4"
  }
 },
 "nbformat": 4,
 "nbformat_minor": 0
}