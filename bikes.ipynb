{
 "cells": [
  {
   "cell_type": "markdown",
   "metadata": {},
   "source": [
    "## Notebook config"
   ]
  },
  {
   "cell_type": "code",
   "execution_count": null,
   "metadata": {},
   "outputs": [],
   "source": [
    "DATA_CSV = \"data.csv\"\n",
    "STATIONS_CSV = \"stations.csv\"\n",
    "SHAPEFILE = \"oslo-shapefile/roads.shp\""
   ]
  },
  {
   "cell_type": "markdown",
   "metadata": {},
   "source": [
    "## Read data"
   ]
  },
  {
   "cell_type": "code",
   "execution_count": null,
   "metadata": {},
   "outputs": [],
   "source": [
    "from bike_analysis import *\n",
    "df = read_augmented_availability_data(DATA_CSV, STATIONS_CSV)\n",
    "stations = read_station_data(STATIONS_CSV)"
   ]
  },
  {
   "cell_type": "markdown",
   "metadata": {},
   "source": [
    "## Plotting functions"
   ]
  },
  {
   "cell_type": "code",
   "execution_count": null,
   "metadata": {},
   "outputs": [],
   "source": [
    "import matplotlib as mpl\n",
    "from matplotlib import pyplot as plt\n",
    "\n",
    "def plot_station_usage(df, stations):\n",
    "    mpl.style.use(\"seaborn\")\n",
    "    for station_id in stations:\n",
    "        sub_df = df[df.station_id == station_id]\n",
    "        sub_df['real_capacity'] = sub_df.num_bikes_available + sub_df.num_docks_available\n",
    "        sub_df[['num_bikes_available', 'real_capacity']].plot()\n",
    "        top_row = sub_df.iloc[0]\n",
    "        plt.ylim(0, top_row.station_capacity)\n",
    "        plt.title(top_row.station_name)\n",
    "        plt.show();"
   ]
  },
  {
   "cell_type": "markdown",
   "metadata": {},
   "source": [
    "## Bike availability over time and space"
   ]
  },
  {
   "cell_type": "code",
   "execution_count": null,
   "metadata": {
    "scrolled": false
   },
   "outputs": [],
   "source": [
    "xlim = (10.65, 10.82)\n",
    "ylim = (59.89, 59.96)\n",
    "gdf = get_road_gdf(SHAPEFILE, xlim, ylim)"
   ]
  },
  {
   "cell_type": "code",
   "execution_count": null,
   "metadata": {
    "scrolled": false
   },
   "outputs": [],
   "source": [
    "import numpy as np\n",
    "from pandas import Timedelta\n",
    "\n",
    "mpl.style.use(\"grayscale\")\n",
    "\n",
    "max_snaps = np.inf\n",
    "snap_i = 0\n",
    "prev_ts = None\n",
    "for snap in snapshots(df):\n",
    "    if prev_ts is None:\n",
    "        prev_ts = snap.index[0]\n",
    "    else:\n",
    "        timediff = snap.index[0] - prev_ts\n",
    "        prev_ts = snap.index[0]\n",
    "    plt.figure(figsize=(15, 10))\n",
    "    ax = plt.gca()\n",
    "    snap.plot.scatter(\n",
    "        'station_lon',\n",
    "        'station_lat',\n",
    "        s=snap.station_capacity*8,\n",
    "        c=100*snap.num_bikes_available/snap.station_capacity,\n",
    "        colorbar=True,\n",
    "        colormap='RdBu',\n",
    "        grid=False,\n",
    "        alpha=0.75,\n",
    "        ax=ax\n",
    "    )\n",
    "    gdf.plot(alpha=0.25, ax=ax, color=\"black\")\n",
    "    plt.axis('auto')\n",
    "    plt.ylim(ylim)\n",
    "    plt.xlim(xlim)\n",
    "    plt.title(snap.index[0])\n",
    "    plt.savefig(\"snap_{:05d}\".format(snap_i))\n",
    "    plt.close()\n",
    "    snap_i += 1\n",
    "    if snap_i >= max_snaps:\n",
    "        break"
   ]
  },
  {
   "cell_type": "code",
   "execution_count": null,
   "metadata": {},
   "outputs": [],
   "source": []
  }
 ],
 "metadata": {
  "kernelspec": {
   "display_name": "Python 3",
   "language": "python",
   "name": "python3"
  },
  "language_info": {
   "codemirror_mode": {
    "name": "ipython",
    "version": 3
   },
   "file_extension": ".py",
   "mimetype": "text/x-python",
   "name": "python",
   "nbconvert_exporter": "python",
   "pygments_lexer": "ipython3",
   "version": "3.6.4"
  }
 },
 "nbformat": 4,
 "nbformat_minor": 1
}
